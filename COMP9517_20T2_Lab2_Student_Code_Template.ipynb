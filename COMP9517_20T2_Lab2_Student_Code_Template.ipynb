{
 "cells": [
  {
   "cell_type": "code",
   "execution_count": 1,
   "metadata": {},
   "outputs": [],
   "source": [
    "# Task1 Hint: (with sample code for the SIFT detector)\n",
    "# Initialize SIFT detector, detect keypoints, store and show SIFT keypoints of original image in a Numpy array\n",
    "# Define parameters for SIFT initializations such that we find only 10% of keypoints\n",
    "import cv2\n",
    "import matplotlib.pyplot as plt\n",
    "import copy\n",
    "\n",
    "class SiftDetector():\n",
    "    def __init__(self, norm=\"L2\", params=None):\n",
    "        self.detector=self.get_detector(params)\n",
    "        self.norm=norm\n",
    "\n",
    "    def get_detector(self, params):\n",
    "        if params is None:\n",
    "            params={}\n",
    "            params[\"n_features\"]=0\n",
    "            params[\"n_octave_layers\"]=3\n",
    "            params[\"contrast_threshold\"]=0.03\n",
    "            params[\"edge_threshold\"]=10\n",
    "            params[\"sigma\"]=1.6\n",
    "\n",
    "        detector = cv2.xfeatures2d.SIFT_create(\n",
    "                nfeatures=params[\"n_features\"],\n",
    "                nOctaveLayers=params[\"n_octave_layers\"],\n",
    "                contrastThreshold=params[\"contrast_threshold\"],\n",
    "                edgeThreshold=params[\"edge_threshold\"],\n",
    "                sigma=params[\"sigma\"])\n",
    "\n",
    "        return detector\n",
    "\n",
    "\n",
    "\n",
    "# Task2 Hint:\n",
    "# Upscale the image, compute SIFT features for rescaled image\n",
    "# Apply BFMatcher with defined params and ratio test to obtain good matches, and then select and draw best 5 matches\n",
    "\n",
    "# Task3 Hint: (with sampe code for the rotation)\n",
    "# Rotate the image and compute SIFT features for rotated image\n",
    "# Apply BFMatcher with defined params and ratio test to obtain good matches, and then select and draw best 5 matches\n",
    "import math\n",
    "import numpy as np\n",
    "import sys\n",
    "\n",
    "# image: image to rotate\n",
    "# x:     x-coordinate of point we wish to rotate around\n",
    "# y:     y-coordinate of point we wish to rotate around\n",
    "# angle: degrees to rotate image by\n",
    "#\n",
    "# Returns a rotated copy of the original image\n",
    "def rotate(image, x, y, angle):\n",
    "    rot_matrix = cv2.getRotationMatrix2D((x, y), angle, 1.0)\n",
    "    h, w = image.shape[:2]\n",
    "\n",
    "    return cv2.warpAffine(image, rot_matrix, (w, h))\n",
    "\n",
    "# Get coordinates of center point.\n",
    "#\n",
    "# image:  Image that will be rotated\n",
    "# return: (x, y) coordinates of point at center of image\n",
    "def get_img_center(image):\n",
    "    height, width = image.shape[:2]\n",
    "    center = height // 2, width // 2\n",
    "\n",
    "    return center\n"
   ]
  },
  {
   "cell_type": "code",
   "execution_count": 2,
   "metadata": {},
   "outputs": [],
   "source": [
    "img_gray = cv2.imread('COMP9517_20T2_Lab2_Image.jpg', 0)\n",
    "img = cv2.imread('COMP9517_20T2_Lab2_Image.jpg')\n",
    "# img = cv2.cvtColor(img,cv2.COLOR_BGR2RGB)\n",
    "# img_gray = cv2.cvtColor(img, cv2.COLOR_BGR2GRAY)"
   ]
  },
  {
   "cell_type": "code",
   "execution_count": 3,
   "metadata": {},
   "outputs": [],
   "source": [
    "A = SiftDetector()\n",
    "detector_1 = A.get_detector(params=None)"
   ]
  },
  {
   "cell_type": "code",
   "execution_count": 4,
   "metadata": {},
   "outputs": [],
   "source": [
    "kp1, des1 = detector_1.detectAndCompute(img_gray, None)"
   ]
  },
  {
   "cell_type": "code",
   "execution_count": 5,
   "metadata": {},
   "outputs": [],
   "source": [
    "img_kp = copy.deepcopy(img)\n",
    "img_kp = cv2.drawKeypoints(img, kp1, img_kp, color=(255,0,255))"
   ]
  },
  {
   "cell_type": "code",
   "execution_count": 76,
   "metadata": {},
   "outputs": [],
   "source": [
    "parameters = {'n_features':600, 'n_octave_layers':3, 'contrast_threshold':0.08, 'edge_threshold':10, 'sigma':1.6}\n",
    "B = SiftDetector()\n",
    "detector_2 = B.get_detector(parameters)\n",
    "kp2, des2 = detector_2.detectAndCompute(img_gray, None)\n",
    "img_kp_2 = copy.deepcopy(img)\n",
    "img_kp_2 = cv2.drawKeypoints(img, kp2, img_kp_2, color=(255,0,255))\n",
    "# cv2.imshow('output', img_kp_2)\n",
    "# cv2.waitKey(10)\n",
    "# cv2.destroyAllWindows()"
   ]
  },
  {
   "cell_type": "code",
   "execution_count": 77,
   "metadata": {},
   "outputs": [],
   "source": [
    "#nfeatures：特征点数目（算法对检测出的特征点排名，返回最好的nfeatures个特征点）。\n",
    "#nOctaveLayers：金字塔中每组的层数（算法中会自己计算这个值，后面会介绍）。\n",
    "#contrastThreshold：过滤掉较差的特征点的对阈值。contrastThreshold越大，返回的特征点越少。\n",
    "#edgeThreshold：过滤掉边缘效应的阈值。edgeThreshold越大，特征点越多（被过滤掉的越少）。\n",
    "#sigma：金字塔第0层图像高斯滤波系数，也就是σ。\n",
    "\n",
    "#nfeatures指定最终返回的特征点数量，并不影响SIFT特征检测的结果\n",
    "#参数nOctaveLayers和sigma主要影响图像高斯金字塔的构成，\n",
    "#contrastThreshold和edgeThreshold则影响在DOG中寻找极值点的过程与结果。"
   ]
  },
  {
   "cell_type": "code",
   "execution_count": 78,
   "metadata": {},
   "outputs": [],
   "source": [
    "#task2"
   ]
  },
  {
   "cell_type": "code",
   "execution_count": 79,
   "metadata": {},
   "outputs": [],
   "source": [
    "height, width = int(img.shape[0]*1.15), int(img.shape[1]*1.15)\n"
   ]
  },
  {
   "cell_type": "code",
   "execution_count": 80,
   "metadata": {},
   "outputs": [],
   "source": [
    "img_gray_scale = cv2.resize(img_gray, dsize=(width, height), interpolation=cv2.INTER_NEAREST)\n",
    "img_scale = cv2.resize(img, dsize=(width, height), interpolation=cv2.INTER_NEAREST)"
   ]
  },
  {
   "cell_type": "code",
   "execution_count": 81,
   "metadata": {},
   "outputs": [],
   "source": [
    "kp_scale, des_scale = detector_2.detectAndCompute(img_gray_scale, None)\n",
    "img_scale_2 = copy.deepcopy(img_scale)\n",
    "img_scale_2 = cv2.drawKeypoints(img_scale, kp_scale, img_scale_2, color=(255,0,255))"
   ]
  },
  {
   "cell_type": "code",
   "execution_count": 82,
   "metadata": {},
   "outputs": [],
   "source": [
    "#nearest-neighbour distance ratio\n",
    "flann = cv2.FlannBasedMatcher()\n",
    "matches_scale = flann.knnMatch(des2, des_scale, k=2)\n",
    "ratio = 0.7\n",
    "best_match_scale = []\n",
    "for i, (m, n) in enumerate(matches_scale):\n",
    "    if m.distance < ratio * n.distance:\n",
    "        best_match_scale.append(m)\n",
    "best_match_scale = sorted(best_match_scale, key = lambda x: x.distance)\n",
    "sorted_match = []\n",
    "for m in best_match_scale:\n",
    "    sorted_match.append([m])\n",
    "img3 = cv2.drawMatchesKnn(img_kp_2,kp2,img_scale_2,kp_scale,sorted_match[:5], None,flags=2)"
   ]
  },
  {
   "cell_type": "code",
   "execution_count": 83,
   "metadata": {},
   "outputs": [],
   "source": [
    "cv2.imshow('output', img3)\n",
    "cv2.waitKey(10)\n",
    "cv2.destroyAllWindows()"
   ]
  },
  {
   "cell_type": "code",
   "execution_count": 84,
   "metadata": {},
   "outputs": [],
   "source": [
    "#task 3"
   ]
  },
  {
   "cell_type": "code",
   "execution_count": 85,
   "metadata": {},
   "outputs": [],
   "source": [
    "center = get_img_center(img)"
   ]
  },
  {
   "cell_type": "code",
   "execution_count": 86,
   "metadata": {},
   "outputs": [],
   "source": [
    "def rotate_bound(image, angle):\n",
    "    # grab the dimensions of the image and then determine the\n",
    "    # center\n",
    "    (h, w) = image.shape[:2]\n",
    "    (cX, cY) = (w // 2, h // 2)\n",
    " \n",
    "    # grab the rotation matrix (applying the negative of the\n",
    "    # angle to rotate clockwise), then grab the sine and cosine\n",
    "    # (i.e., the rotation components of the matrix)\n",
    "    M = cv2.getRotationMatrix2D((cX, cY), -angle, 1.0)\n",
    "    cos = np.abs(M[0, 0])\n",
    "    sin = np.abs(M[0, 1])\n",
    " \n",
    "    # compute the new bounding dimensions of the image\n",
    "    nW = int((h * sin) + (w * cos))\n",
    "    nH = int((h * cos) + (w * sin))\n",
    " \n",
    "    # adjust the rotation matrix to take into account translation\n",
    "    M[0, 2] += (nW / 2) - cX\n",
    "    M[1, 2] += (nH / 2) - cY\n",
    " \n",
    "    # perform the actual rotation and return the image\n",
    "    return cv2.warpAffine(image, M, (nW, nH))"
   ]
  },
  {
   "cell_type": "code",
   "execution_count": 87,
   "metadata": {},
   "outputs": [],
   "source": [
    "img_gray_rotate = rotate_bound(img_gray, 60)\n",
    "img_rotate = rotate_bound(img, 60)"
   ]
  },
  {
   "cell_type": "code",
   "execution_count": 88,
   "metadata": {},
   "outputs": [],
   "source": [
    "kp_rotate, des_rotate = detector_2.detectAndCompute(img_gray_rotate, None)\n",
    "img_rotate_4 = copy.deepcopy(img_rotate)\n",
    "img_rotate_4 = cv2.drawKeypoints(img_rotate_4, kp_rotate, img_rotate_4, color=(255,0,255))"
   ]
  },
  {
   "cell_type": "code",
   "execution_count": 89,
   "metadata": {},
   "outputs": [],
   "source": [
    "#nearest-neighbour distance ratio\n",
    "matches_rotate = flann.knnMatch(des2, des_rotate, k=2)\n",
    "ratio = 0.5\n",
    "best_match_rotate = []\n",
    "for i, (m, n) in enumerate(matches_rotate):\n",
    "    if m.distance < ratio * n.distance:\n",
    "        best_match_rotate.append(m)\n",
    "best_match_rotate = sorted(best_match_rotate, key = lambda x: x.distance)\n",
    "sorted_match_rotate = []\n",
    "for m in best_match_rotate:\n",
    "    sorted_match_rotate.append([m])\n",
    "img_rotate_output = cv2.drawMatchesKnn(img_kp_2,kp2,img_rotate_4,kp_rotate,sorted_match_rotate[:5], None,flags=2)\n",
    "cv2.imshow('output', img_rotate_output)\n",
    "cv2.waitKey(10)\n",
    "cv2.destroyAllWindows()"
   ]
  },
  {
   "cell_type": "code",
   "execution_count": 90,
   "metadata": {},
   "outputs": [
    {
     "name": "stdout",
     "output_type": "stream",
     "text": [
      "6.633249759674072\n",
      "7.211102485656738\n",
      "9.05538558959961\n",
      "10.198039054870605\n",
      "11.357816696166992\n"
     ]
    }
   ],
   "source": [
    "for i in best_match_rotate[:5]:\n",
    "    print(i.distance)"
   ]
  },
  {
   "cell_type": "code",
   "execution_count": null,
   "metadata": {},
   "outputs": [],
   "source": []
  },
  {
   "cell_type": "code",
   "execution_count": null,
   "metadata": {},
   "outputs": [],
   "source": []
  },
  {
   "cell_type": "code",
   "execution_count": null,
   "metadata": {},
   "outputs": [],
   "source": []
  }
 ],
 "metadata": {
  "kernelspec": {
   "display_name": "Python 3",
   "language": "python",
   "name": "python3"
  },
  "language_info": {
   "codemirror_mode": {
    "name": "ipython",
    "version": 3
   },
   "file_extension": ".py",
   "mimetype": "text/x-python",
   "name": "python",
   "nbconvert_exporter": "python",
   "pygments_lexer": "ipython3",
   "version": "3.6.10"
  }
 },
 "nbformat": 4,
 "nbformat_minor": 4
}
